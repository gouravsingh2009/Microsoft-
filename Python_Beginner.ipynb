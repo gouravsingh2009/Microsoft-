{
  "cells": [
    {
      "cell_type": "markdown",
      "metadata": {
        "id": "view-in-github",
        "colab_type": "text"
      },
      "source": [
        "<a href=\"https://colab.research.google.com/github/gouravsingh2009/Microsoft-/blob/master/Python_Beginner.ipynb\" target=\"_parent\"><img src=\"https://colab.research.google.com/assets/colab-badge.svg\" alt=\"Open In Colab\"/></a>"
      ]
    },
    {
      "cell_type": "code",
      "source": [
        "gandhi_quote = \" 'If you don't ask, you don't get it' \"\n",
        "print(gandhi_quote)"
      ],
      "metadata": {
        "id": "b_PWrn-5Mpt_",
        "outputId": "e97891e1-7eb2-4695-cedf-3a68a7f2498a",
        "colab": {
          "base_uri": "https://localhost:8080/"
        }
      },
      "execution_count": 2,
      "outputs": [
        {
          "output_type": "stream",
          "name": "stdout",
          "text": [
            " 'If you don't ask, you don't get it' \n"
          ]
        }
      ]
    },
    {
      "cell_type": "code",
      "source": [
        "model = \"VGG16\"\n",
        "iteration = \"150\"\n",
        "accuracy = \"67.98\"\n",
        "print('\"the accuracy of ' + model+ ' model in ' + iteration +'th iteration is:' + accuracy+' \"' )"
      ],
      "metadata": {
        "id": "_VVGE0C8NJEK",
        "outputId": "ca82f71a-4c90-47d3-ab3f-ef9c6d82eb7d",
        "colab": {
          "base_uri": "https://localhost:8080/"
        }
      },
      "execution_count": 7,
      "outputs": [
        {
          "output_type": "stream",
          "name": "stdout",
          "text": [
            "\"the accuracy of VGG16 model in 150th iteration is:67.98 \"\n"
          ]
        }
      ]
    },
    {
      "cell_type": "code",
      "source": [],
      "metadata": {
        "id": "WQMOI3YkOca3"
      },
      "execution_count": null,
      "outputs": []
    }
  ],
  "metadata": {
    "colab": {
      "name": "Welcome To Colaboratory",
      "toc_visible": true,
      "provenance": [],
      "include_colab_link": true
    },
    "kernelspec": {
      "display_name": "Python 3",
      "name": "python3"
    }
  },
  "nbformat": 4,
  "nbformat_minor": 0
}